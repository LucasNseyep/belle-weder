{
 "cells": [
  {
   "cell_type": "markdown",
   "id": "e22cdb93",
   "metadata": {},
   "source": [
    "# Pre Processing Images"
   ]
  },
  {
   "cell_type": "code",
   "execution_count": null,
   "id": "61e7bf0c",
   "metadata": {},
   "outputs": [],
   "source": [
    "import numpy as np\n",
    "import pandas as pd\n",
    "\n",
    "import matplotlib.pyplot as plt\n",
    "import cv2\n",
    "import random\n",
    "from collections import Counter\n",
    "import time\n",
    "from datetime import datetime\n",
    "import seaborn as sns\n",
    "\n",
    "from sklearn.model_selection import train_test_split\n",
    "from sklearn.neighbors import KNeighborsClassifier\n",
    "from sklearn.metrics import accuracy_score\n",
    "from sklearn.model_selection import cross_val_score\n",
    "from sklearn.metrics import confusion_matrix, classification_report, ConfusionMatrixDisplay\n",
    "from sklearn.metrics import confusion_matrix"
   ]
  },
  {
   "cell_type": "markdown",
   "id": "77bf3c8a",
   "metadata": {},
   "source": [
    "## Loading and labelling the images"
   ]
  },
  {
   "cell_type": "code",
   "execution_count": null,
   "id": "70fcbbdb",
   "metadata": {},
   "outputs": [],
   "source": [
    "import os\n",
    "\n",
    "clear_sky_images = os.listdir(\"resources/cloud-images/cloud-classifier-1/clear_sky\")\n",
    "cloud_images = os.listdir(\"resources/cloud-images/cloud-classifier-1/cloud\")\n",
    "\n",
    "labeled_data = {}\n",
    "\n",
    "# Fine to label the images like this for now because there are only 2 classes, but best to automate this step using folder names next\n",
    "\n",
    "for i in clear_sky_images:\n",
    "    labeled_data[i] =  [{'label': 'clear_sky'}]\n",
    "\n",
    "for i in cloud_images:\n",
    "    labeled_data[i] =  [{'label': 'cloud'}]\n",
    "\n",
    "print(len(labeled_data))"
   ]
  },
  {
   "cell_type": "code",
   "execution_count": null,
   "id": "dcb281ab",
   "metadata": {},
   "outputs": [],
   "source": [
    "# Displaying a random image\n",
    "\n",
    "random_filename = 'resources/cloud-images/cloud-classifier-1/' + random.choice([\"cloud/\" + random.choice(cloud_images), \"clear_sky/\" + random.choice(clear_sky_images)])\n",
    "print(random_filename)\n",
    "\n",
    "sample_image = cv2.imread(random_filename)\n",
    "## Convert to RGB\n",
    "image = cv2.cvtColor(sample_image, cv2.COLOR_BGR2RGB)\n",
    "\n",
    "# plt.figure(figsize=(10,10))\n",
    "plt.imshow(image)\n",
    "plt.show()"
   ]
  },
  {
   "cell_type": "markdown",
   "id": "c0c3a215",
   "metadata": {},
   "source": [
    "## Preprocessing the Images"
   ]
  },
  {
   "cell_type": "code",
   "execution_count": null,
   "id": "7bf0a063",
   "metadata": {},
   "outputs": [],
   "source": [
    "# Images are being converted to grayscale, resized, and flattened.\n",
    "# TODO:\n",
    "#   - [] find the image colour channel with the most contrast when turned to grayscale and employ that\n",
    "#   - [] use a built in function to add more contrast to the images\n",
    "\n",
    "\n",
    "train_images = []\n",
    "train_labels = []\n",
    "class_object = ['clear_sky', 'cloud']\n",
    "\n",
    "start_datetime = datetime.now()\n",
    "\n",
    "for (i, image_file) in enumerate(labeled_data):\n",
    "    #read image\n",
    "    path = 'resources/cloud-images/cloud-classifier-1/'+ labeled_data[image_file][0]['label'] + '/' + image_file\n",
    "    print(path)\n",
    "    image = cv2.imread(path)\n",
    "    #make images gray\n",
    "    plt.imshow(image)\n",
    "    plt.show()\n",
    "    image = cv2.cvtColor(image,cv2.COLOR_BGR2GRAY)\n",
    "    #label image using the annotations\n",
    "    label = class_object.index(labeled_data[image_file][0]['label'])\n",
    "    tmp_label = labeled_data[image_file][0]['label']\n",
    "    # resize image\n",
    "    image = cv2.resize(image, (32, 32))\n",
    "    # flatten the image\n",
    "    pixels = image.flatten()\n",
    "    #Append flattened image to\n",
    "    train_images.append(pixels)\n",
    "    train_labels.append(label)\n",
    "    print('Loaded...', '\\U0001F483', 'Image', str(i+1), 'is a', tmp_label)\n",
    "    plt.imshow(image)\n",
    "    plt.show()\n",
    "\n",
    "end_datetime = datetime.now()"
   ]
  },
  {
   "cell_type": "code",
   "execution_count": null,
   "id": "0df9ad24",
   "metadata": {},
   "outputs": [],
   "source": [
    "print('Image Processing Duration: ' + str(end_datetime-start_datetime))"
   ]
  }
 ],
 "metadata": {
  "kernelspec": {
   "display_name": ".venv",
   "language": "python",
   "name": "python3"
  },
  "language_info": {
   "codemirror_mode": {
    "name": "ipython",
    "version": 3
   },
   "file_extension": ".py",
   "mimetype": "text/x-python",
   "name": "python",
   "nbconvert_exporter": "python",
   "pygments_lexer": "ipython3",
   "version": "3.13.2"
  }
 },
 "nbformat": 4,
 "nbformat_minor": 5
}
