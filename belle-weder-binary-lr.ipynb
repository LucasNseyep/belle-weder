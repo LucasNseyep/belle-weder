{
 "cells": [
  {
   "cell_type": "code",
   "execution_count": null,
   "id": "d3a8de1e",
   "metadata": {},
   "outputs": [],
   "source": [
    "import numpy as np\n",
    "\n",
    "import matplotlib.pyplot as plt\n",
    "import cv2\n",
    "from datetime import datetime\n",
    "from sklearn.utils import check_random_state\n",
    "\n",
    "\n",
    "from sklearn.model_selection import train_test_split\n",
    "from sklearn.linear_model import LogisticRegression\n",
    "from sklearn.metrics import confusion_matrix, classification_report, ConfusionMatrixDisplay\n"
   ]
  },
  {
   "cell_type": "code",
   "execution_count": null,
   "id": "1fef68f5",
   "metadata": {},
   "outputs": [],
   "source": [
    "import os\n",
    "\n",
    "clear_sky_images = os.listdir(\"resources/cloud-images/cloud-classifier-1/clear_sky\")\n",
    "cloud_images = os.listdir(\"resources/cloud-images/cloud-classifier-1/cloud\")\n",
    "\n",
    "labeled_data = {}\n",
    "\n",
    "# Fine to label the images like this for now because there are only 2 classes, but best to automate this step using folder names next\n",
    "# [X] See svm examples\n",
    "\n",
    "for i in clear_sky_images:\n",
    "    labeled_data[i] =  [{'label': 'clear_sky'}]\n",
    "\n",
    "for i in cloud_images:\n",
    "    labeled_data[i] =  [{'label': 'cloud'}]\n"
   ]
  },
  {
   "cell_type": "code",
   "execution_count": null,
   "id": "ec58f665",
   "metadata": {},
   "outputs": [],
   "source": [
    "train_images = []\n",
    "train_labels = []\n",
    "class_object = ['cloud', 'clear_sky']\n",
    "\n",
    "start_datetime = datetime.now()\n",
    "\n",
    "for (i, image_file) in enumerate(labeled_data):\n",
    "    path = 'resources/cloud-images/cloud-classifier-1/'+ labeled_data[image_file][0]['label'] + '/' + image_file\n",
    "    image = cv2.imread(path)\n",
    "    plt.imshow(image)\n",
    "    plt.show()\n",
    "    image = cv2.cvtColor(image,cv2.COLOR_BGR2GRAY)\n",
    "    label = class_object.index(labeled_data[image_file][0]['label'])\n",
    "    tmp_label = labeled_data[image_file][0]['label']\n",
    "    image = cv2.resize(image, (32, 32))\n",
    "    train_images.append(image)\n",
    "    train_labels.append(label)\n",
    "    print('Loaded...', '\\U0001F483', 'Image', str(i+1), 'is a', tmp_label)\n",
    "    plt.imshow(image)\n",
    "    plt.show()\n",
    "\n",
    "end_datetime = datetime.now()"
   ]
  },
  {
   "cell_type": "code",
   "execution_count": null,
   "id": "a1a84d94",
   "metadata": {},
   "outputs": [],
   "source": [
    "#Splitting the data\n",
    "\n",
    "print('Image Processing Duration: ' + str(end_datetime-start_datetime))\n",
    "\n",
    "train_images = np.array(train_images)\n",
    "train_labels = np.array(train_labels)\n",
    "\n",
    "\n",
    "random_state = check_random_state(0)\n",
    "permutation = random_state.permutation(train_images.shape[0])\n",
    "train_images = train_images[permutation]\n",
    "train_labels = train_labels[permutation]\n",
    "\n",
    "train_images = train_images.reshape((train_images.shape[0], -1))\n",
    "\n",
    "test_size = 0.3\n",
    "\n",
    "train_samples, test_samples, train_samples_labels, test_labels = train_test_split(\n",
    "    train_images, train_labels, test_size=test_size, random_state=None)\n"
   ]
  },
  {
   "cell_type": "code",
   "execution_count": null,
   "id": "1ada39e2",
   "metadata": {},
   "outputs": [],
   "source": [
    "# Training\n",
    "\n",
    "X_train = train_samples\n",
    "X_test = test_samples\n",
    "\n",
    "y_train, y_test = train_samples_labels, test_labels\n",
    "\n",
    "clf = LogisticRegression(C= 1.0, penalty=\"l1\", solver=\"liblinear\", tol=0.1)\n",
    "clf.fit(X_train, y_train)\n",
    "\n",
    "\n",
    "sparsity = np.mean(clf.coef_ == 0) * 100\n",
    "score = clf.score(X_test, y_test)\n",
    "\n",
    "print(\"Sparsity with L1 penalty: %.2f%%\" % sparsity)\n",
    "print(\"Test score with L1 penalty: %.4f\" % score)"
   ]
  },
  {
   "cell_type": "code",
   "execution_count": null,
   "id": "c1549835",
   "metadata": {},
   "outputs": [],
   "source": [
    "# Plotting the classification vector as an image\n",
    "coef = clf.coef_.copy()\n",
    "plt.figure(figsize=(10, 5))\n",
    "scale = np.abs(coef).max()\n",
    "\n",
    "fig, ax = plt.subplots()\n",
    "\n",
    "\n",
    "plt.imshow(\n",
    "    coef[0].reshape(32, 32),\n",
    "    interpolation=\"nearest\",\n",
    "    cmap=plt.cm.RdBu,\n",
    "    vmin=-scale,\n",
    "    vmax=scale,\n",
    ")\n",
    "\n",
    "plt.show()"
   ]
  },
  {
   "cell_type": "code",
   "execution_count": null,
   "id": "e9fb6e89",
   "metadata": {},
   "outputs": [],
   "source": [
    "# Confusion Matrix\n",
    "y_pred = clf.predict(X_test)\n",
    "\n",
    "cm = confusion_matrix(y_test, y_pred)\n",
    "disp = ConfusionMatrixDisplay(confusion_matrix=cm, display_labels=class_object)\n",
    "disp.plot(cmap=\"Blues\")\n",
    "plt.title(f\"Confusion Matrix\")\n",
    "plt.grid(False)\n",
    "plt.show()"
   ]
  },
  {
   "cell_type": "code",
   "execution_count": null,
   "id": "b29ec122",
   "metadata": {},
   "outputs": [],
   "source": [
    "#Test\n",
    "\n",
    "image = cv2.imread(\"labs/test_image4.jpg\")\n",
    "image = cv2.cvtColor(image,cv2.COLOR_BGR2GRAY)\n",
    "image = cv2.resize(image, (32, 32))\n",
    "plt.imshow(image)\n",
    "plt.show()\n",
    "\n",
    "image = np.array(image)\n",
    "image = image.flatten()\n",
    "\n",
    "clf.predict([image])\n"
   ]
  }
 ],
 "metadata": {
  "kernelspec": {
   "display_name": ".venv",
   "language": "python",
   "name": "python3"
  },
  "language_info": {
   "codemirror_mode": {
    "name": "ipython",
    "version": 3
   },
   "file_extension": ".py",
   "mimetype": "text/x-python",
   "name": "python",
   "nbconvert_exporter": "python",
   "pygments_lexer": "ipython3",
   "version": "3.13.2"
  }
 },
 "nbformat": 4,
 "nbformat_minor": 5
}
