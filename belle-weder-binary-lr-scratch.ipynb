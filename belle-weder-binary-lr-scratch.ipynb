{
 "cells": [
  {
   "cell_type": "code",
   "execution_count": null,
   "id": "b5057929",
   "metadata": {},
   "outputs": [],
   "source": [
    "import os\n",
    "import numpy as np\n",
    "import matplotlib.pyplot as plt\n",
    "import cv2\n",
    "from datetime import datetime\n",
    "from sklearn.model_selection import train_test_split\n",
    "from sklearn.preprocessing import StandardScaler\n"
   ]
  },
  {
   "cell_type": "code",
   "execution_count": null,
   "id": "2d60a295",
   "metadata": {},
   "outputs": [],
   "source": [
    "# Processing Images\n",
    "\n",
    "clear_sky_images = os.listdir(\"resources/cloud-images/cloud-classifier-1/clear_sky\")\n",
    "cloud_images = os.listdir(\"resources/cloud-images/cloud-classifier-1/cloud\")\n",
    "\n",
    "labeled_data = {}\n",
    "\n",
    "for i in clear_sky_images:\n",
    "    labeled_data[i] =  [{'label': 'clear_sky'}]\n",
    "\n",
    "for i in cloud_images:\n",
    "    labeled_data[i] =  [{'label': 'cloud'}]\n",
    "\n",
    "train_images = []\n",
    "train_labels = []\n",
    "class_object = ['clear_sky', 'cloud']\n",
    "\n",
    "start_datetime = datetime.now()\n",
    "\n",
    "for (i, image_file) in enumerate(labeled_data):\n",
    "    path = 'resources/cloud-images/cloud-classifier-1/'+ labeled_data[image_file][0]['label'] + '/' + image_file\n",
    "    print(path)\n",
    "    image = cv2.imread(path)\n",
    "    plt.imshow(image)\n",
    "    plt.show()\n",
    "    image = cv2.cvtColor(image,cv2.COLOR_BGR2GRAY)\n",
    "    label = class_object.index(labeled_data[image_file][0]['label'])\n",
    "    tmp_label = labeled_data[image_file][0]['label']\n",
    "    image = cv2.resize(image, (32, 32))\n",
    "    pixels = image.flatten()\n",
    "    train_images.append(pixels)\n",
    "    train_labels.append(label)\n",
    "    print('Loaded...', '\\U0001F483', 'Image', str(i+1), 'is a', tmp_label)\n",
    "    plt.imshow(image)\n",
    "    plt.show()\n",
    "\n",
    "end_datetime = datetime.now()"
   ]
  },
  {
   "cell_type": "code",
   "execution_count": 9,
   "id": "5f8bebee",
   "metadata": {},
   "outputs": [
    {
     "name": "stdout",
     "output_type": "stream",
     "text": [
      "Image Processing Duration: 0:00:56.389194\n"
     ]
    }
   ],
   "source": [
    "# Splitting the data\n",
    "\n",
    "print('Image Processing Duration: ' + str(end_datetime-start_datetime))\n",
    "\n",
    "train_images = np.array(train_images)\n",
    "train_labels = np.array(train_labels)\n",
    "\n",
    "\n",
    "test_size = 0.3\n",
    "\n",
    "train_samples, test_samples, train_samples_labels, test_labels = train_test_split(\n",
    "    train_images, train_labels, test_size=test_size, random_state=None)"
   ]
  },
  {
   "cell_type": "code",
   "execution_count": 10,
   "id": "af1343f5",
   "metadata": {},
   "outputs": [],
   "source": [
    "# Logistic Regression from scratch (1)\n",
    "\n",
    "class LogisticRegressionScratch:\n",
    "    def __init__(self, learning_rate=0.01, iterations=100):\n",
    "        self.lr = learning_rate\n",
    "        self.iterations = iterations\n",
    "        self.weights = None\n",
    "        self.bias = 0\n",
    "        self.cost_history = []\n",
    "\n",
    "    def sigmoid(self, z):\n",
    "        \"\"\"Sigmoid activation function\"\"\"\n",
    "        return 1 / (1 + np.exp(-z))\n",
    "\n",
    "    def cost(self, h, y):\n",
    "        \"\"\"Cross-entropy loss\"\"\"\n",
    "        m = len(y)\n",
    "        return - (1/m) * np.sum(y*np.log(h) + (1-y)*np.log(1-h))\n",
    "\n",
    "    def fit(self, X, y):\n",
    "        \"\"\"Train model using gradient descent\"\"\"\n",
    "        m, n = X.shape\n",
    "        self.weights = np.zeros(n)\n",
    "\n",
    "        for _ in range(self.iterations):\n",
    "            z = np.dot(X, self.weights) + self.bias\n",
    "            h = self.sigmoid(z)\n",
    "\n",
    "            dw = (1/m) * np.dot(X.T, (h - y))\n",
    "            db = (1/m) * np.sum(h - y)\n",
    "\n",
    "            self.weights -= self.lr * dw\n",
    "            self.bias -= self.lr * db\n",
    "\n",
    "            self.cost_history.append(self.cost(h, y))\n",
    "\n",
    "    def predict(self, X):\n",
    "        \"\"\"Make predictions\"\"\"\n",
    "        return (self.sigmoid(np.dot(X, self.weights) + self.bias) >= 0.5).astype(int)"
   ]
  },
  {
   "cell_type": "code",
   "execution_count": null,
   "id": "a78c6f7b",
   "metadata": {},
   "outputs": [
    {
     "name": "stderr",
     "output_type": "stream",
     "text": [
      "/var/folders/n5/g_2w_9497mb0cvvg5_p2v3km0000gn/T/ipykernel_13482/993521626.py:18: RuntimeWarning: divide by zero encountered in log\n",
      "  return - (1/m) * np.sum(y*np.log(h) + (1-y)*np.log(1-h))\n",
      "/var/folders/n5/g_2w_9497mb0cvvg5_p2v3km0000gn/T/ipykernel_13482/993521626.py:18: RuntimeWarning: invalid value encountered in multiply\n",
      "  return - (1/m) * np.sum(y*np.log(h) + (1-y)*np.log(1-h))\n",
      "/var/folders/n5/g_2w_9497mb0cvvg5_p2v3km0000gn/T/ipykernel_13482/993521626.py:13: RuntimeWarning: overflow encountered in exp\n",
      "  return 1 / (1 + np.exp(-z))\n"
     ]
    },
    {
     "name": "stdout",
     "output_type": "stream",
     "text": [
      "Model Accuracy: 0.69\n"
     ]
    }
   ],
   "source": [
    "# Logistic Regression from scratch (3)\n",
    "\n",
    "# Training\n",
    "model = LogisticRegressionScratch(learning_rate=0.1, iterations=1000)\n",
    "model.fit(train_samples, train_samples_labels)\n",
    "\n",
    "# Evaluating accuracy\n",
    "predictions = model.predict(test_samples)\n",
    "accuracy = np.mean(predictions == test_labels)\n",
    "print(f\"Model Accuracy: {accuracy:.2f}\")\n"
   ]
  },
  {
   "cell_type": "code",
   "execution_count": null,
   "id": "51690e87",
   "metadata": {},
   "outputs": [
    {
     "name": "stdout",
     "output_type": "stream",
     "text": [
      "Sparsity with L1 penalty: 98.93%\n",
      "Test score with L1 penalty: 0.6667\n"
     ]
    },
    {
     "name": "stderr",
     "output_type": "stream",
     "text": [
      "/Users/lucasnseyep/code/LucasNseyep/belle-weder/.venv/lib/python3.13/site-packages/sklearn/utils/extmath.py:203: RuntimeWarning: divide by zero encountered in matmul\n",
      "  ret = a @ b\n",
      "/Users/lucasnseyep/code/LucasNseyep/belle-weder/.venv/lib/python3.13/site-packages/sklearn/utils/extmath.py:203: RuntimeWarning: overflow encountered in matmul\n",
      "  ret = a @ b\n",
      "/Users/lucasnseyep/code/LucasNseyep/belle-weder/.venv/lib/python3.13/site-packages/sklearn/utils/extmath.py:203: RuntimeWarning: invalid value encountered in matmul\n",
      "  ret = a @ b\n"
     ]
    }
   ],
   "source": [
    "# Logistic Regression with sklearn (1)\n",
    "from sklearn.linear_model import LogisticRegression\n",
    "\n",
    "scaler = StandardScaler()\n",
    "X_train = scaler.fit_transform(train_images)\n",
    "X_test = scaler.transform(test_samples)\n",
    "\n",
    "y_train, y_test = train_labels, test_labels\n",
    "\n",
    "clf = LogisticRegression(C=0.01, penalty=\"l1\", solver=\"saga\", tol=0.1)\n",
    "clf.fit(X_train, y_train)\n",
    "sparsity = np.mean(clf.coef_ == 0) * 100\n",
    "score = clf.score(X_test, y_test)\n",
    "\n",
    "print(\"Sparsity with L1 penalty: %.2f%%\" % sparsity)\n",
    "print(\"Test score with L1 penalty: %.4f\" % score)\n"
   ]
  }
 ],
 "metadata": {
  "kernelspec": {
   "display_name": ".venv",
   "language": "python",
   "name": "python3"
  },
  "language_info": {
   "codemirror_mode": {
    "name": "ipython",
    "version": 3
   },
   "file_extension": ".py",
   "mimetype": "text/x-python",
   "name": "python",
   "nbconvert_exporter": "python",
   "pygments_lexer": "ipython3",
   "version": "3.13.2"
  }
 },
 "nbformat": 4,
 "nbformat_minor": 5
}
