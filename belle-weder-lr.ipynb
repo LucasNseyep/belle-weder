{
 "cells": [
  {
   "cell_type": "code",
   "execution_count": null,
   "id": "b5057929",
   "metadata": {},
   "outputs": [],
   "source": [
    "import os\n",
    "import pandas as pd\n",
    "import numpy as np\n",
    "import matplotlib.pyplot as plt\n",
    "import cv2\n",
    "from datetime import datetime\n",
    "from sklearn.model_selection import train_test_split"
   ]
  },
  {
   "cell_type": "code",
   "execution_count": null,
   "id": "2d60a295",
   "metadata": {},
   "outputs": [],
   "source": [
    "clear_sky_images = os.listdir(\"resources/cloud-images/cloud-classifier-1/clear_sky\")\n",
    "cloud_images = os.listdir(\"resources/cloud-images/cloud-classifier-1/cloud\")\n",
    "\n",
    "labeled_data = {}\n",
    "\n",
    "# Fine to label the images like this for now because there are only 2 classes, but best to automate this step using folder names next\n",
    "\n",
    "for i in clear_sky_images:\n",
    "    labeled_data[i] =  [{'label': 'clear_sky'}]\n",
    "\n",
    "for i in cloud_images:\n",
    "    labeled_data[i] =  [{'label': 'cloud'}]\n",
    "\n",
    "train_images = []\n",
    "train_labels = []\n",
    "class_object = ['clear_sky', 'cloud']\n",
    "\n",
    "start_datetime = datetime.now()\n",
    "\n",
    "for (i, image_file) in enumerate(labeled_data):\n",
    "    #read image\n",
    "    path = 'resources/cloud-images/cloud-classifier-1/'+ labeled_data[image_file][0]['label'] + '/' + image_file\n",
    "    print(path)\n",
    "    image = cv2.imread(path)\n",
    "    #make images gray\n",
    "    plt.imshow(image)\n",
    "    plt.show()\n",
    "    image = cv2.cvtColor(image,cv2.COLOR_BGR2GRAY)\n",
    "    #label image using the annotations\n",
    "    label = class_object.index(labeled_data[image_file][0]['label'])\n",
    "    tmp_label = labeled_data[image_file][0]['label']\n",
    "    # resize image\n",
    "    image = cv2.resize(image, (32, 32))\n",
    "    # flatten the image\n",
    "    pixels = image.flatten()\n",
    "    #Append flattened image to\n",
    "    train_images.append(pixels)\n",
    "    train_labels.append(label)\n",
    "    print('Loaded...', '\\U0001F483', 'Image', str(i+1), 'is a', tmp_label)\n",
    "    plt.imshow(image)\n",
    "    plt.show()\n",
    "\n",
    "end_datetime = datetime.now()"
   ]
  },
  {
   "cell_type": "code",
   "execution_count": null,
   "id": "176bccf0",
   "metadata": {},
   "outputs": [],
   "source": [
    "print('Image Processing Duration: ' + str(end_datetime-start_datetime))\n",
    "\n",
    "train_images = np.array(train_images)\n",
    "train_labels = np.array(train_labels)\n"
   ]
  },
  {
   "cell_type": "code",
   "execution_count": null,
   "id": "af1343f5",
   "metadata": {},
   "outputs": [],
   "source": [
    "class LogisticRegressionScratch:\n",
    "    def __init__(self, learning_rate=0.01, iterations=100):\n",
    "        self.lr = learning_rate\n",
    "        self.iterations = iterations\n",
    "        self.weights = None\n",
    "        self.bias = 0\n",
    "        self.cost_history = []\n",
    "\n",
    "    def sigmoid(self, z):\n",
    "        \"\"\"Sigmoid activation function\"\"\"\n",
    "        return 1 / (1 + np.exp(-z))\n",
    "\n",
    "    def cost(self, h, y):\n",
    "        \"\"\"Cross-entropy loss\"\"\"\n",
    "        m = len(y)\n",
    "        return - (1/m) * np.sum(y*np.log(h) + (1-y)*np.log(1-h))\n",
    "\n",
    "    def fit(self, X, y):\n",
    "        \"\"\"Train model using gradient descent\"\"\"\n",
    "        m, n = X.shape\n",
    "        self.weights = np.zeros(n)\n",
    "\n",
    "        for _ in range(self.iterations):\n",
    "            z = np.dot(X, self.weights) + self.bias\n",
    "            h = self.sigmoid(z)\n",
    "\n",
    "            dw = (1/m) * np.dot(X.T, (h - y))\n",
    "            db = (1/m) * np.sum(h - y)\n",
    "\n",
    "            self.weights -= self.lr * dw\n",
    "            self.bias -= self.lr * db\n",
    "\n",
    "            self.cost_history.append(self.cost(h, y))\n",
    "\n",
    "    def predict(self, X):\n",
    "        \"\"\"Make predictions\"\"\"\n",
    "        return (self.sigmoid(np.dot(X, self.weights) + self.bias) >= 0.5).astype(int)"
   ]
  },
  {
   "cell_type": "code",
   "execution_count": null,
   "id": "5f8bebee",
   "metadata": {},
   "outputs": [],
   "source": [
    "test_size = 0.3\n",
    "\n",
    "train_samples, test_samples, train_samples_labels, test_labels = train_test_split(\n",
    "    train_images, train_labels, test_size=test_size, random_state=None)"
   ]
  },
  {
   "cell_type": "code",
   "execution_count": null,
   "id": "a78c6f7b",
   "metadata": {},
   "outputs": [],
   "source": [
    "# Train our logistic regression model\n",
    "model = LogisticRegressionScratch(learning_rate=0.1, iterations=1000)\n",
    "model.fit(train_samples, train_samples_labels)\n",
    "\n",
    "# Evaluate accuracy\n",
    "predictions = model.predict(test_samples)\n",
    "accuracy = np.mean(predictions == test_labels)\n",
    "print(f\"Model Accuracy: {accuracy:.2f}\")\n"
   ]
  }
 ],
 "metadata": {
  "kernelspec": {
   "display_name": ".venv",
   "language": "python",
   "name": "python3"
  },
  "language_info": {
   "codemirror_mode": {
    "name": "ipython",
    "version": 3
   },
   "file_extension": ".py",
   "mimetype": "text/x-python",
   "name": "python",
   "nbconvert_exporter": "python",
   "pygments_lexer": "ipython3",
   "version": "3.13.2"
  }
 },
 "nbformat": 4,
 "nbformat_minor": 5
}
