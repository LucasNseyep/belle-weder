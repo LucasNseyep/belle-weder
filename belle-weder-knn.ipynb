{
 "cells": [
  {
   "cell_type": "code",
   "execution_count": null,
   "id": "746d6beb",
   "metadata": {},
   "outputs": [],
   "source": [
    "import numpy as np\n",
    "import matplotlib.pyplot as plt\n",
    "import cv2\n",
    "import random\n",
    "from collections import Counter"
   ]
  },
  {
   "cell_type": "code",
   "execution_count": null,
   "id": "b3ad6b4b",
   "metadata": {},
   "outputs": [],
   "source": [
    "def euclidean_distance(point1, point2):\n",
    "    return np.sqrt(np.sum((np.array(point1) - np.array(point2))**2))"
   ]
  },
  {
   "cell_type": "code",
   "execution_count": null,
   "id": "cf440f26",
   "metadata": {},
   "outputs": [],
   "source": [
    "def flatten_list(matrix):\n",
    "    flat_list = []\n",
    "    for row in matrix:\n",
    "        flat_list += row\n",
    "    return flat_list"
   ]
  },
  {
   "cell_type": "code",
   "execution_count": null,
   "id": "03e81991",
   "metadata": {},
   "outputs": [],
   "source": [
    "def knn_predict(training_data, training_labels, test_point, k):\n",
    "    distances = []\n",
    "    for i in range(len(training_data)):\n",
    "        dist = euclidean_distance(test_point, training_data[i])\n",
    "        distances.append((dist, training_labels[i]))\n",
    "    distances.sort(key=lambda x: x[0])\n",
    "    k_nearest_labels = [label for _, label in distances[:k]]\n",
    "    k_nearest_labels = np.array(k_nearest_labels).tolist()\n",
    "    return Counter(flatten_list(k_nearest_labels)).most_common(1)[0][0]"
   ]
  },
  {
   "cell_type": "code",
   "execution_count": null,
   "id": "f5b9d3f7",
   "metadata": {},
   "outputs": [],
   "source": [
    "import os\n",
    "\n",
    "clear_sky_images = os.listdir(\"resources/cloud-images/cloud-classifier-1/clear_sky\")\n",
    "cloud_images = os.listdir(\"resources/cloud-images/cloud-classifier-1/cloud\")\n",
    "\n",
    "\n",
    "labeled_data = {}\n",
    "\n",
    "for i in clear_sky_images:\n",
    "    labeled_data[i] =  [{'label': 'clear_sky'}]\n",
    "\n",
    "for i in cloud_images:\n",
    "    labeled_data[i] =  [{'label': 'cloud'}]\n",
    "\n",
    "print(len(labeled_data))"
   ]
  },
  {
   "cell_type": "code",
   "execution_count": null,
   "id": "85c1d23f",
   "metadata": {},
   "outputs": [],
   "source": [
    "random_filename = 'resources/cloud-images/cloud-classifier-1/' + random.choice([\"cloud/\", \"clear_sky/\"]) + random.choice(list(labeled_data.keys()))\n",
    "print(random_filename)\n",
    "\n",
    "sample_image = cv2.imread(random_filename)\n",
    "## Convert to RGB\n",
    "image = cv2.cvtColor(sample_image, cv2.COLOR_BGR2RGB)\n",
    "## Now plot the image\n",
    "# plt.figure(figsize=(10,10))\n",
    "plt.imshow(image)\n",
    "plt.show()"
   ]
  },
  {
   "cell_type": "code",
   "execution_count": null,
   "id": "5cf7a6d2",
   "metadata": {},
   "outputs": [],
   "source": [
    "# Convert image to grayscale - grayscale simplifies the algorithm and reduces computational requirements.\n",
    "\n",
    "sample_image = cv2.cvtColor(sample_image,cv2.COLOR_BGR2GRAY)\n",
    "plt.figure(figsize=(10,10))\n",
    "plt.imshow(sample_image)\n",
    "plt.show()"
   ]
  },
  {
   "cell_type": "code",
   "execution_count": null,
   "id": "af5347f9",
   "metadata": {},
   "outputs": [],
   "source": [
    "#Resizing the image and changing the colour map to gray\n",
    "sample_image = cv2.resize(sample_image, (32, 32))\n",
    "plt.imshow(sample_image, cmap = \"gray\")\n",
    "plt.show()"
   ]
  },
  {
   "cell_type": "code",
   "execution_count": null,
   "id": "cb44a3f3",
   "metadata": {},
   "outputs": [],
   "source": [
    "pixels = sample_image.flatten()\n",
    "pixels"
   ]
  },
  {
   "cell_type": "code",
   "execution_count": null,
   "id": "b31b203e",
   "metadata": {},
   "outputs": [],
   "source": [
    "train_images = []\n",
    "train_labels = []\n",
    "class_object = ['clear_sky', 'cloud']\n",
    "\n",
    "for (i, image_file) in enumerate(labeled_data):\n",
    "    #read image\n",
    "    path = 'resources/cloud-images/cloud-classifier-1/'+ labeled_data[image_file][0]['label'] + '/' + image_file\n",
    "    print(path)\n",
    "    image = cv2.imread(path)\n",
    "    #make images gray\n",
    "    plt.imshow(image)\n",
    "    plt.show()\n",
    "    image = cv2.cvtColor(image,cv2.COLOR_BGR2GRAY)\n",
    "    #label image using the annotations\n",
    "    label = class_object.index(labeled_data[image_file][0]['label'])\n",
    "    tmp_label = labeled_data[image_file][0]['label']\n",
    "    # tmp_label = annotations[\"annotations\"][image_path[7:]][0]['label']\n",
    "    # resize image\n",
    "    image = cv2.resize(image, (32, 32))\n",
    "    # flatten the image\n",
    "    pixels = image.flatten()\n",
    "    #Append flattened image to\n",
    "    train_images.append(pixels)\n",
    "    train_labels.append(label)\n",
    "    print('Loaded...', '\\U0001F483', 'Image', str(i+1), 'is a', tmp_label)\n",
    "    plt.imshow(image)\n",
    "    plt.show()\n"
   ]
  },
  {
   "cell_type": "code",
   "execution_count": null,
   "id": "aef8e8d3",
   "metadata": {},
   "outputs": [],
   "source": [
    "train_images = np.array(train_images).astype('float32')\n",
    "train_labels = np.array(train_labels)\n",
    "\n",
    "print(train_labels)\n"
   ]
  },
  {
   "cell_type": "code",
   "execution_count": null,
   "id": "3003b73a",
   "metadata": {},
   "outputs": [],
   "source": [
    "train_labels = train_labels.astype(int)\n",
    "train_labels = train_labels.reshape((train_labels.size,1))\n",
    "print(train_labels)"
   ]
  },
  {
   "cell_type": "code",
   "execution_count": null,
   "id": "fe0beabc",
   "metadata": {},
   "outputs": [],
   "source": [
    "#preparing test image\n",
    "#checking it out in rgb\n",
    "test_image = cv2.imread('practice/test_image1.jpg')\n",
    "image = cv2.cvtColor(test_image, cv2.COLOR_BGR2RGB)\n",
    "plt.imshow(image)\n",
    "plt.show()\n",
    "\n",
    "# grey scaling it\n",
    "test_image = cv2.cvtColor(test_image,cv2.COLOR_BGR2GRAY)\n",
    "plt.figure(figsize=(10,10))\n",
    "plt.imshow(test_image)\n",
    "plt.show()\n",
    "\n",
    "#resizing it and changin the colour mapping\n",
    "test_image = cv2.resize(test_image, (32, 32))\n",
    "plt.imshow(test_image, cmap = \"gray\")\n",
    "plt.show()\n",
    "\n",
    "test_point = test_image.flatten()\n",
    "print(test_point)"
   ]
  },
  {
   "cell_type": "code",
   "execution_count": null,
   "id": "d08f88ce",
   "metadata": {},
   "outputs": [],
   "source": [
    "# From scratch test\n",
    "k = 5\n",
    "\n",
    "prediction = knn_predict(train_images, train_labels, test_point, k)\n",
    "print(class_object[prediction])\n"
   ]
  }
 ],
 "metadata": {
  "kernelspec": {
   "display_name": ".venv",
   "language": "python",
   "name": "python3"
  },
  "language_info": {
   "codemirror_mode": {
    "name": "ipython",
    "version": 3
   },
   "file_extension": ".py",
   "mimetype": "text/x-python",
   "name": "python",
   "nbconvert_exporter": "python",
   "pygments_lexer": "ipython3",
   "version": "3.13.2"
  }
 },
 "nbformat": 4,
 "nbformat_minor": 5
}
