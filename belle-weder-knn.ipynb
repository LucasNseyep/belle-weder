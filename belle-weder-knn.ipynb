{
 "cells": [
  {
   "cell_type": "code",
   "execution_count": null,
   "id": "746d6beb",
   "metadata": {},
   "outputs": [],
   "source": [
    "import numpy as np\n",
    "import pandas as pd\n",
    "\n",
    "import matplotlib.pyplot as plt\n",
    "import cv2\n",
    "import random\n",
    "from collections import Counter\n",
    "import time\n",
    "from datetime import datetime\n",
    "import seaborn as sns\n",
    "\n",
    "from sklearn.model_selection import train_test_split\n",
    "from sklearn.neighbors import KNeighborsClassifier\n",
    "from sklearn.metrics import accuracy_score\n",
    "from sklearn.model_selection import cross_val_score\n",
    "from sklearn.metrics import confusion_matrix, classification_report, ConfusionMatrixDisplay\n",
    "from sklearn.metrics import confusion_matrix"
   ]
  },
  {
   "cell_type": "code",
   "execution_count": null,
   "id": "b3ad6b4b",
   "metadata": {},
   "outputs": [],
   "source": [
    "def euclidean_distance(point1, point2):\n",
    "    return np.sqrt(np.sum((np.array(point1) - np.array(point2))**2))"
   ]
  },
  {
   "cell_type": "code",
   "execution_count": null,
   "id": "cf440f26",
   "metadata": {},
   "outputs": [],
   "source": [
    "def flatten_list(matrix):\n",
    "    flat_list = []\n",
    "    for row in matrix:\n",
    "        flat_list += row\n",
    "    return flat_list"
   ]
  },
  {
   "cell_type": "code",
   "execution_count": null,
   "id": "03e81991",
   "metadata": {},
   "outputs": [],
   "source": [
    "def knn_predict(training_data, training_labels, test_point, k):\n",
    "    distances = []\n",
    "    for i in range(len(training_data)):\n",
    "        dist = euclidean_distance(test_point, training_data[i])\n",
    "        distances.append((dist, training_labels[i]))\n",
    "    distances.sort(key=lambda x: x[0])\n",
    "    k_nearest_labels = [label for _, label in distances[:k]]\n",
    "    k_nearest_labels = np.array(k_nearest_labels).tolist()\n",
    "    return Counter(flatten_list(k_nearest_labels)).most_common(1)[0][0]"
   ]
  },
  {
   "cell_type": "code",
   "execution_count": null,
   "id": "f5b9d3f7",
   "metadata": {},
   "outputs": [],
   "source": [
    "import os\n",
    "\n",
    "clear_sky_images = os.listdir(\"resources/cloud-images/cloud-classifier-1/clear_sky\")\n",
    "cloud_images = os.listdir(\"resources/cloud-images/cloud-classifier-1/cloud\")\n",
    "\n",
    "\n",
    "labeled_data = {}\n",
    "\n",
    "for i in clear_sky_images:\n",
    "    labeled_data[i] =  [{'label': 'clear_sky'}]\n",
    "\n",
    "for i in cloud_images:\n",
    "    labeled_data[i] =  [{'label': 'cloud'}]\n",
    "\n",
    "print(len(labeled_data))"
   ]
  },
  {
   "cell_type": "code",
   "execution_count": null,
   "id": "85c1d23f",
   "metadata": {},
   "outputs": [],
   "source": [
    "random_filename = 'resources/cloud-images/cloud-classifier-1/' + random.choice([\"cloud/\", \"clear_sky/\"]) + random.choice(list(labeled_data.keys()))\n",
    "print(random_filename)\n",
    "\n",
    "sample_image = cv2.imread(random_filename)\n",
    "## Convert to RGB\n",
    "image = cv2.cvtColor(sample_image, cv2.COLOR_BGR2RGB)\n",
    "## Now plot the image\n",
    "# plt.figure(figsize=(10,10))\n",
    "plt.imshow(image)\n",
    "plt.show()"
   ]
  },
  {
   "cell_type": "code",
   "execution_count": null,
   "id": "5cf7a6d2",
   "metadata": {},
   "outputs": [],
   "source": [
    "# Convert image to grayscale - grayscale simplifies the algorithm and reduces computational requirements.\n",
    "\n",
    "sample_image = cv2.cvtColor(sample_image,cv2.COLOR_BGR2GRAY)\n",
    "plt.figure(figsize=(10,10))\n",
    "plt.imshow(sample_image)\n",
    "plt.show()"
   ]
  },
  {
   "cell_type": "code",
   "execution_count": null,
   "id": "af5347f9",
   "metadata": {},
   "outputs": [],
   "source": [
    "#Resizing the image and changing the colour map to gray\n",
    "sample_image = cv2.resize(sample_image, (32, 32))\n",
    "plt.imshow(sample_image, cmap = \"gray\")\n",
    "plt.show()"
   ]
  },
  {
   "cell_type": "code",
   "execution_count": null,
   "id": "cb44a3f3",
   "metadata": {},
   "outputs": [],
   "source": [
    "pixels = sample_image.flatten()\n",
    "pixels"
   ]
  },
  {
   "cell_type": "code",
   "execution_count": null,
   "id": "b31b203e",
   "metadata": {},
   "outputs": [],
   "source": [
    "train_images = []\n",
    "train_labels = []\n",
    "class_object = ['clear_sky', 'cloud']\n",
    "\n",
    "start_datetime = datetime.now()\n",
    "\n",
    "for (i, image_file) in enumerate(labeled_data):\n",
    "    #read image\n",
    "    path = 'resources/cloud-images/cloud-classifier-1/'+ labeled_data[image_file][0]['label'] + '/' + image_file\n",
    "    print(path)\n",
    "    image = cv2.imread(path)\n",
    "    #make images gray\n",
    "    plt.imshow(image)\n",
    "    plt.show()\n",
    "    image = cv2.cvtColor(image,cv2.COLOR_BGR2GRAY)\n",
    "    #label image using the annotations\n",
    "    label = class_object.index(labeled_data[image_file][0]['label'])\n",
    "    tmp_label = labeled_data[image_file][0]['label']\n",
    "    # tmp_label = annotations[\"annotations\"][image_path[7:]][0]['label']\n",
    "    # resize image\n",
    "    image = cv2.resize(image, (32, 32))\n",
    "    # flatten the image\n",
    "    pixels = image.flatten()\n",
    "    #Append flattened image to\n",
    "    train_images.append(pixels)\n",
    "    train_labels.append(label)\n",
    "    print('Loaded...', '\\U0001F483', 'Image', str(i+1), 'is a', tmp_label)\n",
    "    plt.imshow(image)\n",
    "    plt.show()\n",
    "\n",
    "end_datetime = datetime.now()"
   ]
  },
  {
   "cell_type": "code",
   "execution_count": null,
   "id": "2a54b014",
   "metadata": {},
   "outputs": [],
   "source": [
    "print('Image Processing Duration: ' + str(end_datetime-start_datetime))"
   ]
  },
  {
   "cell_type": "code",
   "execution_count": null,
   "id": "aef8e8d3",
   "metadata": {},
   "outputs": [],
   "source": [
    "train_images = np.array(train_images).astype('float32')\n",
    "train_labels = np.array(train_labels)\n",
    "\n",
    "print(train_labels)\n",
    "\n",
    "print(len(train_images))\n",
    "print(len(train_labels))\n"
   ]
  },
  {
   "cell_type": "code",
   "execution_count": null,
   "id": "3003b73a",
   "metadata": {},
   "outputs": [],
   "source": [
    "train_labels = train_labels.astype(int)\n",
    "train_labels = train_labels.reshape((train_labels.size,1))"
   ]
  },
  {
   "cell_type": "code",
   "execution_count": null,
   "id": "fe0beabc",
   "metadata": {},
   "outputs": [],
   "source": [
    "# preparing test image for manual testing\n",
    "#checking it out in rgb\n",
    "test_image = cv2.imread('practice/test_image1.jpg')\n",
    "image = cv2.cvtColor(test_image, cv2.COLOR_BGR2RGB)\n",
    "plt.imshow(image)\n",
    "plt.show()\n",
    "\n",
    "# grey scaling it\n",
    "test_image = cv2.cvtColor(test_image,cv2.COLOR_BGR2GRAY)\n",
    "plt.figure(figsize=(10,10))\n",
    "plt.imshow(test_image)\n",
    "plt.show()\n",
    "\n",
    "#resizing it and changin the colour mapping\n",
    "test_image = cv2.resize(test_image, (32, 32))\n",
    "plt.imshow(test_image, cmap = \"gray\")\n",
    "plt.show()\n",
    "\n",
    "test_point = test_image.flatten()\n",
    "print(test_point)"
   ]
  },
  {
   "cell_type": "code",
   "execution_count": null,
   "id": "d08f88ce",
   "metadata": {},
   "outputs": [],
   "source": [
    "# Test\n",
    "k = 5\n",
    "\n",
    "prediction = knn_predict(train_images, train_labels, test_point, k)\n",
    "print(class_object[prediction])\n"
   ]
  },
  {
   "cell_type": "code",
   "execution_count": null,
   "id": "793d835d",
   "metadata": {},
   "outputs": [],
   "source": [
    "# Sk Learn\n",
    "test_size = 0.2\n",
    "\n",
    "train_samples, test_samples, train_samples_labels, test_labels = train_test_split(\n",
    "    train_images, train_labels, test_size=test_size, random_state=0)"
   ]
  },
  {
   "cell_type": "code",
   "execution_count": null,
   "id": "5c0e3bbd",
   "metadata": {},
   "outputs": [],
   "source": [
    "#Mini test with k = 5\n",
    "knn = KNeighborsClassifier(n_neighbors=1)\n",
    "knn.fit(train_samples, train_samples_labels)\n",
    "\n",
    "# Predict and evaluate\n",
    "y_pred = knn.predict(test_samples)\n",
    "print(f\"Test Accuracy (k=5): {accuracy_score(test_labels, y_pred):.5f}\")"
   ]
  },
  {
   "cell_type": "code",
   "execution_count": null,
   "id": "f5f8e5a4",
   "metadata": {},
   "outputs": [],
   "source": [
    "# IBM style\n",
    "start_datetime = datetime.now()\n",
    "\n",
    "# Range of k values to try\n",
    "k_range = range(1, 100)\n",
    "knn = cv2.ml.KNearest_create()\n",
    "knn.train(train_samples, cv2.ml.ROW_SAMPLE, train_samples_labels)\n",
    "k_result = []\n",
    "\n",
    "for k in k_range:\n",
    "    ret,result,neighbours,dist = knn.findNearest(test_samples,k=k)\n",
    "    k_result.append(result)\n",
    "flattened = []\n",
    "for res in k_result:\n",
    "    flat_result = [item for sublist in res for item in sublist]\n",
    "    flattened.append(flat_result)\n",
    "\n",
    "end_datetime = datetime.now()\n",
    "print('Training Duration: ' + str(end_datetime-start_datetime))\n"
   ]
  },
  {
   "cell_type": "code",
   "execution_count": null,
   "id": "464351fa",
   "metadata": {},
   "outputs": [],
   "source": [
    "## create an empty list to save accuracy and the confusion matrix\n",
    "accuracy_res = []\n",
    "con_matrix = []\n",
    "## we will use a loop because we have multiple value of k\n",
    "for k_res in k_result:\n",
    "    label_names = [0, 1]\n",
    "    cmx = confusion_matrix(test_labels, k_res, labels=label_names)\n",
    "    con_matrix.append(cmx)\n",
    "    ## get values for when we predict accurately\n",
    "    matches = k_res==test_labels\n",
    "    correct = np.count_nonzero(matches)\n",
    "    ## calculate accuracy\n",
    "    accuracy = correct*100.0/result.size\n",
    "    accuracy_res.append(accuracy)\n",
    "## store accuracy for later when we create the graph\n",
    "res_accuracy = {k_range[i]: accuracy_res[i] for i in range(len(k_range))}\n",
    "list_res = sorted(res_accuracy.items())"
   ]
  },
  {
   "cell_type": "code",
   "execution_count": null,
   "id": "6d4baf2a",
   "metadata": {},
   "outputs": [],
   "source": [
    "t=0\n",
    "## for each value of k we will create a confusion matrix\n",
    "for array in con_matrix:\n",
    "    df_cm = pd.DataFrame(array)\n",
    "    sns.set(font_scale=1.4) # for label size\n",
    "    sns.heatmap(df_cm, annot=True, annot_kws={\"size\": 16}, fmt = \".0f\") # font size\n",
    "    t += 1\n",
    "    title = \"Confusion Matrix for k equals \" + str(t)\n",
    "    plt.title(title)\n",
    "    plt.show()"
   ]
  },
  {
   "cell_type": "code",
   "execution_count": null,
   "id": "13549cad",
   "metadata": {},
   "outputs": [],
   "source": [
    "## plot accuracy against\n",
    "x, y = zip(*list_res)\n",
    "plt.plot(x, y)\n",
    "plt.show()"
   ]
  },
  {
   "cell_type": "code",
   "execution_count": null,
   "id": "4945b26d",
   "metadata": {},
   "outputs": [],
   "source": [
    "k_best = max(list_res,key=lambda item:item[1])[0]\n",
    "k_best"
   ]
  },
  {
   "cell_type": "code",
   "execution_count": null,
   "id": "bb50c010",
   "metadata": {},
   "outputs": [],
   "source": [
    "# Geeks for Geeks\n",
    "# Range of k values to try\n",
    "k_range = range(1, 100)\n",
    "cv_scores = []\n",
    "\n",
    "# Evaluate each k using 5-fold cross-validation - #what are folds?\n",
    "for k in k_range:\n",
    "    knn = KNeighborsClassifier(n_neighbors=k)\n",
    "    scores = cross_val_score(knn, train_images, train_labels, cv=5, scoring='accuracy')\n",
    "    cv_scores.append(scores.mean())\n",
    "\n",
    "# Plot accuracy vs. k\n",
    "plt.figure(figsize=(8, 5))\n",
    "plt.plot(k_range, cv_scores, marker='o')\n",
    "plt.title(\"k-NN Cross-Validation Accuracy vs k\")\n",
    "plt.xlabel(\"Number of Neighbors: k\")\n",
    "plt.ylabel(\"Cross-Validated Accuracy\")\n",
    "plt.grid(True)\n",
    "plt.show()\n",
    "\n",
    "# Best k\n",
    "best_k = k_range[np.argmax(cv_scores)]\n",
    "print(f\"Best k from cross-validation: {best_k}\")"
   ]
  },
  {
   "cell_type": "code",
   "execution_count": null,
   "id": "3d52e6ba",
   "metadata": {},
   "outputs": [],
   "source": [
    "# Train final model with best k\n",
    "best_knn = KNeighborsClassifier(n_neighbors=best_k) #knn to use\n",
    "best_knn.fit(train_samples, train_samples_labels) #giving it data to plot\n",
    "\n",
    "# Predict on test data\n",
    "y_pred = best_knn.predict(test_samples)\n",
    "print(f\"Test Accuracy (k=1): {accuracy_score(test_labels, y_pred):.4f}\")"
   ]
  },
  {
   "cell_type": "code",
   "execution_count": null,
   "id": "d39133b4",
   "metadata": {},
   "outputs": [],
   "source": [
    "# Confusion Matrix\n",
    "\n",
    "cm = confusion_matrix(test_labels, y_pred)\n",
    "disp = ConfusionMatrixDisplay(confusion_matrix=cm, display_labels=[class_object[0], class_object[1]])\n",
    "disp.plot(cmap=\"Blues\")\n",
    "plt.title(f\"Confusion Matrix (k={best_k})\")\n",
    "plt.grid(False)\n",
    "plt.show()\n",
    "\n",
    "# Detailed classification report\n",
    "print(\"Classification Report:\")\n",
    "print(classification_report(test_labels, y_pred, target_names=[class_object[0], class_object[1]]))"
   ]
  },
  {
   "cell_type": "code",
   "execution_count": null,
   "id": "63763532",
   "metadata": {},
   "outputs": [],
   "source": [
    "# Classification Report Definitions:\n",
    "# Precision: How many predicted positives are actually positive.\n",
    "# Recall: How many actual positives were correctly predicted.\n",
    "# F1-score: Harmonic mean of precision and recall.\n",
    "# Support: Number of true instances per class."
   ]
  },
  {
   "cell_type": "code",
   "execution_count": null,
   "id": "8696fc61",
   "metadata": {},
   "outputs": [],
   "source": [
    "# How would you improve the accuracy?\n",
    "\n",
    "# better data potentially - higher contrast images through more preprocessing like taking a specific colour channel\n",
    "# more data - the tradeoff would be that the program runs slower though\n",
    "# different model as knn is bad when we have too many dimensions"
   ]
  }
 ],
 "metadata": {
  "kernelspec": {
   "display_name": ".venv",
   "language": "python",
   "name": "python3"
  },
  "language_info": {
   "codemirror_mode": {
    "name": "ipython",
    "version": 3
   },
   "file_extension": ".py",
   "mimetype": "text/x-python",
   "name": "python",
   "nbconvert_exporter": "python",
   "pygments_lexer": "ipython3",
   "version": "3.13.2"
  }
 },
 "nbformat": 4,
 "nbformat_minor": 5
}
