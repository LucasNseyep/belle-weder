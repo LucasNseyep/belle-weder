{
 "cells": [
  {
   "cell_type": "code",
   "execution_count": null,
   "id": "b95741ae",
   "metadata": {},
   "outputs": [],
   "source": [
    "from sklearn.model_selection import train_test_split\n",
    "from sklearn.preprocessing import StandardScaler\n",
    "from sklearn.datasets import make_moons\n",
    "from sklearn.neighbors import KNeighborsClassifier\n",
    "from sklearn.metrics import accuracy_score\n",
    "from sklearn.model_selection import cross_val_score\n",
    "from sklearn.metrics import confusion_matrix, classification_report, ConfusionMatrixDisplay\n",
    "\n",
    "import numpy as np\n",
    "import matplotlib.pyplot as plt\n",
    "import seaborn as sns\n",
    "import pandas as pd"
   ]
  },
  {
   "cell_type": "code",
   "execution_count": null,
   "id": "ffcb0048",
   "metadata": {},
   "outputs": [],
   "source": [
    "# Create synthetic 2D data\n",
    "X, y = make_moons(n_samples=300, noise=0.3, random_state=42)\n",
    "\n",
    "# Create a DataFrame for plotting\n",
    "df = pd.DataFrame(X, columns=[\"Feature 1\", \"Feature 2\"])\n",
    "df['Target'] = y\n",
    "\n",
    "# Visualize the 2D data\n",
    "plt.figure(figsize=(8, 6))\n",
    "sns.scatterplot(data=df, x=\"Feature 1\", y=\"Feature 2\", hue=\"Target\", palette=\"Set1\")\n",
    "plt.title(\"2D Classification Data (make_moons)\")\n",
    "plt.grid(True)\n",
    "plt.show()"
   ]
  },
  {
   "cell_type": "code",
   "execution_count": null,
   "id": "534e73e3",
   "metadata": {},
   "outputs": [],
   "source": [
    "# Normalize the features\n",
    "scaler = StandardScaler()\n",
    "X_scaled = scaler.fit_transform(X)\n",
    "\n",
    "# Split into train and test\n",
    "X_train, X_test, y_train, y_test = train_test_split(\n",
    "    X_scaled, y, test_size=0.3, random_state=0, stratify=y\n",
    ")"
   ]
  },
  {
   "cell_type": "code",
   "execution_count": null,
   "id": "4b27084b",
   "metadata": {},
   "outputs": [],
   "source": [
    "knn = KNeighborsClassifier(n_neighbors=5)\n",
    "knn.fit(X_train, y_train)\n",
    "\n",
    "# Predict and evaluate\n",
    "y_pred = knn.predict(X_test)\n",
    "print(f\"Test Accuracy (k=5): {accuracy_score(y_test, y_pred):.2f}\")"
   ]
  },
  {
   "cell_type": "code",
   "execution_count": null,
   "id": "e9069097",
   "metadata": {},
   "outputs": [],
   "source": [
    "# Range of k values to try\n",
    "k_range = range(1, 21)\n",
    "cv_scores = []\n",
    "\n",
    "# Evaluate each k using 5-fold cross-validation - #what are folds?\n",
    "for k in k_range:\n",
    "    knn = KNeighborsClassifier(n_neighbors=k)\n",
    "    scores = cross_val_score(knn, X_scaled, y, cv=5, scoring='accuracy')\n",
    "    cv_scores.append(scores.mean())\n",
    "\n",
    "# Plot accuracy vs. k\n",
    "plt.figure(figsize=(8, 5))\n",
    "plt.plot(k_range, cv_scores, marker='o')\n",
    "plt.title(\"k-NN Cross-Validation Accuracy vs k\")\n",
    "plt.xlabel(\"Number of Neighbors: k\")\n",
    "plt.ylabel(\"Cross-Validated Accuracy\")\n",
    "plt.grid(True)\n",
    "plt.show()\n",
    "\n",
    "# Best k\n",
    "best_k = k_range[np.argmax(cv_scores)]\n",
    "print(f\"Best k from cross-validation: {best_k}\")"
   ]
  },
  {
   "cell_type": "code",
   "execution_count": null,
   "id": "7f3414ae",
   "metadata": {},
   "outputs": [],
   "source": [
    "# Train final model with best k\n",
    "best_knn = KNeighborsClassifier(n_neighbors=best_k)\n",
    "best_knn.fit(X_train, y_train)\n",
    "\n",
    "# Predict on test data\n",
    "y_pred = best_knn.predict(X_test)\n",
    "print(f\"Test Accuracy (k=6): {accuracy_score(y_test, y_pred):.4f}\")"
   ]
  },
  {
   "cell_type": "code",
   "execution_count": null,
   "id": "f8e1d080",
   "metadata": {},
   "outputs": [],
   "source": [
    "# Confusion Matrix\n",
    "\n",
    "cm = confusion_matrix(y_test, y_pred)\n",
    "disp = ConfusionMatrixDisplay(confusion_matrix=cm, display_labels=[\"Class 0\", \"Class 1\"])\n",
    "disp.plot(cmap=\"Blues\")\n",
    "plt.title(f\"Confusion Matrix (k={best_k})\")\n",
    "plt.grid(False)\n",
    "plt.show()\n",
    "\n",
    "# Detailed classification report\n",
    "print(\"Classification Report:\")\n",
    "print(classification_report(y_test, y_pred, target_names=[\"Class 0\", \"Class 1\"]))"
   ]
  },
  {
   "cell_type": "code",
   "execution_count": null,
   "id": "d3346e09",
   "metadata": {},
   "outputs": [],
   "source": [
    "# Classification Report Definitions:\n",
    "# Precision: How many predicted positives are actually positive.\n",
    "# Recall: How many actual positives were correctly predicted.\n",
    "# F1-score: Harmonic mean of precision and recall.\n",
    "# Support: Number of true instances per class.\n"
   ]
  },
  {
   "cell_type": "code",
   "execution_count": null,
   "id": "edf093cb",
   "metadata": {},
   "outputs": [],
   "source": [
    "# Predict on mesh grid with best k\n",
    "Z = best_knn.predict(np.c_[xx.ravel(), yy.ravel()])\n",
    "Z = Z.reshape(xx.shape)\n",
    "\n",
    "# Plot decision boundary\n",
    "plt.figure(figsize=(8, 6))\n",
    "plt.contourf(xx, yy, Z, cmap=plt.cm.coolwarm, alpha=0.3)\n",
    "sns.scatterplot(x=X_scaled[:, 0], y=X_scaled[:, 1], hue=y, palette=\"Set1\", edgecolor='k')\n",
    "plt.title(f\"Decision Boundary with Best k = {best_k}\")\n",
    "plt.xlabel(\"Feature 1 (scaled)\")\n",
    "plt.ylabel(\"Feature 2 (scaled)\")\n",
    "plt.grid(True)\n",
    "plt.show()"
   ]
  }
 ],
 "metadata": {
  "kernelspec": {
   "display_name": ".venv",
   "language": "python",
   "name": "python3"
  },
  "language_info": {
   "codemirror_mode": {
    "name": "ipython",
    "version": 3
   },
   "file_extension": ".py",
   "mimetype": "text/x-python",
   "name": "python",
   "nbconvert_exporter": "python",
   "pygments_lexer": "ipython3",
   "version": "3.13.2"
  }
 },
 "nbformat": 4,
 "nbformat_minor": 5
}
